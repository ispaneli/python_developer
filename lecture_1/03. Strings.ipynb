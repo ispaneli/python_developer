{
 "cells": [
  {
   "cell_type": "markdown",
   "metadata": {
    "colab_type": "text",
    "id": "BFdiWhNr6r0G"
   },
   "source": [
    "# Работа со строками"
   ]
  },
  {
   "cell_type": "markdown",
   "metadata": {
    "colab_type": "text",
    "id": "uYFXI1DQ6r0K"
   },
   "source": [
    "Строки в Python - упорядоченные последовательности символов, используемые для хранения и представления текстовой информации.\n",
    "\n",
    "В Python, начиная с версии 3, все строки являются юникодом.\n",
    "\n",
    "Строки явлются неизменяемым типом."
   ]
  },
  {
   "cell_type": "markdown",
   "metadata": {
    "colab_type": "text",
    "id": "KWnZ9OXX6r0M"
   },
   "source": [
    "## Литералы строк\n",
    "\n",
    "Строки заключают в двойные или одинарные кавычки. Между ними нет разницы, причина наличия двух вариантов в том, чтобы позволить вставлять в литералы строк символы кавычек или апострофов, не используя экранирование."
   ]
  },
  {
   "cell_type": "code",
   "execution_count": 1,
   "metadata": {
    "colab": {},
    "colab_type": "code",
    "id": "G4dTs2aS6r0N",
    "outputId": "4551d821-23e5-4aa5-e640-ead3f0c7a308"
   },
   "outputs": [
    {
     "name": "stdout",
     "output_type": "stream",
     "text": [
      "your\"s\n",
      "your's\n"
     ]
    }
   ],
   "source": [
    "s = 'your\"s'\n",
    "print(s)\n",
    "s = \"your's\"\n",
    "print(s)"
   ]
  },
  {
   "cell_type": "markdown",
   "metadata": {
    "colab_type": "text",
    "id": "P7TZgo5E6r0W"
   },
   "source": [
    "Тройные апострофы или кавычки можно использовать для записи многострочных блоков текста. Внутри такой строки возможно присутствие кавычек и апострофов, главное, чтобы не было трех кавычек подряд."
   ]
  },
  {
   "cell_type": "code",
   "execution_count": 2,
   "metadata": {
    "colab": {},
    "colab_type": "code",
    "id": "T8eevX9M6r0Y",
    "outputId": "c529db6b-62e8-4c8f-ffa4-9888d7cd1783"
   },
   "outputs": [
    {
     "name": "stdout",
     "output_type": "stream",
     "text": [
      "Это очень большая\n",
      "строка, 'многострочный'\n",
      "блок текста\n"
     ]
    }
   ],
   "source": [
    "s = '''Это очень большая\n",
    "строка, 'многострочный'\n",
    "блок текста'''\n",
    "print(s)"
   ]
  },
  {
   "cell_type": "markdown",
   "metadata": {
    "colab_type": "text",
    "id": "Gx854F6e6r0e"
   },
   "source": [
    "### Экранированные последовательности - служебные символы\n",
    "\n",
    "`\\` - экранирование следующего символа\\\n",
    "`\\n` - Новая строка\\\n",
    "`\\a` - Сигнал BIOS\\\n",
    "`\\b` - Backspace\\\n",
    "`\\r` - Возврат каретки\\\n",
    "`\\t` - Горизонтальная табуляция\\\n",
    "`\\v` - Вертикальная табуляция\\\n",
    "`\\uhhhh` - 16-битовый символ Юникода в 16-ричном представлении\\\n",
    "`\\xhh` - 16-ричное значение символа\\\n",
    "`\\ooo` - 8-ричное значение символа\\\n",
    "`\\0` - Символ Null (не является признаком конца строки)"
   ]
  },
  {
   "cell_type": "code",
   "execution_count": 3,
   "metadata": {
    "colab": {},
    "colab_type": "code",
    "id": "N30enGHm6r0g",
    "outputId": "56879859-f225-4cba-e79b-0adeeede903d"
   },
   "outputs": [
    {
     "name": "stdout",
     "output_type": "stream",
     "text": [
      "aa\n",
      "bb\n",
      "aa\bbb\n",
      "aa\tbb\n",
      "\\u00A9\n",
      "l\n"
     ]
    }
   ],
   "source": [
    "print('aa\\nbb')\n",
    "print('aa\\bbb')\n",
    "print('aa\\tbb')\n",
    "print('\\u00A9')\n",
    "print('\\154')"
   ]
  },
  {
   "cell_type": "markdown",
   "metadata": {
    "colab_type": "text",
    "id": "rNAzFO0B6r0m"
   },
   "source": [
    "### \"Сырые\" строки\n",
    "\n",
    "Если перед открывающей кавычкой стоит символ 'r' (в любом регистре), то механизм экранирования отключается.\n",
    "\n",
    "Но, несмотря на назначение, \"сырая\" строка не может заканчиваться символом обратного слэша."
   ]
  },
  {
   "cell_type": "code",
   "execution_count": 4,
   "metadata": {
    "colab": {},
    "colab_type": "code",
    "id": "UjvATtvO6r0o",
    "outputId": "a4c21be4-a802-4519-a621-f46619f2f288"
   },
   "outputs": [
    {
     "name": "stdout",
     "output_type": "stream",
     "text": [
      "C:\\newt.txt\n",
      "\\n\\n\\\n",
      "\\n\\n\\\n",
      "\\n\\n\\\n"
     ]
    }
   ],
   "source": [
    "s = r'C:\\newt.txt'\n",
    "print(s)\n",
    "\n",
    "# Если нужен \\ в конце строки:\n",
    "\n",
    "s = r'\\n\\n\\\\'[:-1]\n",
    "print(s)\n",
    "s = r'\\n\\n' + '\\\\'\n",
    "print(s)\n",
    "s = '\\\\n\\\\n\\\\'\n",
    "print(s)"
   ]
  },
  {
   "cell_type": "markdown",
   "metadata": {
    "colab_type": "text",
    "id": "-ktZP5fOt3yu"
   },
   "source": [
    "### Форматирование строк\n",
    "\n",
    "Существует несколько более удобных способов форматирования строк, чем простая конкатенация."
   ]
  },
  {
   "cell_type": "markdown",
   "metadata": {
    "colab_type": "text",
    "id": "T0YPDJltt5JG"
   },
   "source": [
    "#### Оператор `%`"
   ]
  },
  {
   "cell_type": "code",
   "execution_count": null,
   "metadata": {
    "colab": {
     "base_uri": "https://localhost:8080/",
     "height": 51
    },
    "colab_type": "code",
    "executionInfo": {
     "elapsed": 1918,
     "status": "ok",
     "timestamp": 1575276473682,
     "user": {
      "displayName": "Надежда Демиденко",
      "photoUrl": "https://lh3.googleusercontent.com/a-/AAuE7mA6D7k5OgtG9hzPe8Abs8DfOKAXQoTXaPfn7EY=s64",
      "userId": "05224310221243935536"
     },
     "user_tz": -180
    },
    "id": "IKAFxGH6w4Zb",
    "outputId": "197bf9f5-96c4-48a5-ecb7-545a46a06383"
   },
   "outputs": [],
   "source": [
    "# Подстановка одного оператора\n",
    "name = 'Vasya'\n",
    "print('Hello, %s!' % name)\n",
    "\n",
    "# А если несколько, то значением будет являться кортеж со строками подстановки:\n",
    "print('%d %s, %d %s' % (6, 'bananas', 10, 'lemons'))"
   ]
  },
  {
   "cell_type": "markdown",
   "metadata": {
    "colab_type": "text",
    "id": "Omjyy7ZqzL4O"
   },
   "source": [
    "Спецификаторы преобразования записываются в следующем порядке:\n",
    "\n",
    "1. %.\n",
    "2. Ключ (опционально), определяет, какой аргумент из значения будет подставляться.\n",
    "3. Флаги преобразования.\n",
    "4. Минимальная ширина поля. Если *, значение берётся из кортежа.\n",
    "5. Точность, начинается с '.', затем - желаемая точность.\n",
    "6. Модификатор длины (опционально).\n",
    "7. Тип.\n",
    "\n",
    "Возможные типы представлены в таблице ниже:\n",
    "\n",
    "|Тип|Значение|\n",
    "|---|:---|\n",
    "|`%d`, `%i`, `%u`|Десятичное число|\n",
    "|`%o`|Число в восьмеричной системе счисления|\n",
    "|`%x`|Число в шестнадцатеричной системе счисления (буквы в нижнем регистре)|\n",
    "|`%X`|Число в шестнадцатеричной системе счисления (буквы в верхнем регистре)|\n",
    "|`%e`|Число с плавающей точкой с экспонентой (экспонента в нижнем регистре)|\n",
    "|`%E`|Число с плавающей точкой с экспонентой (экспонента в верхнем регистре)|\n",
    "|`%f`, `%F`|Число с плавающей точкой (обычный формат)|\n",
    "|`%g`|Число с плавающей точкой. с экспонентой (экспонента в нижнем регистре), если она меньше, чем -4 или точности, иначе обычный формат|\n",
    "|`%G`|Число с плавающей точкой. с экспонентой (экспонента в верхнем регистре), если она меньше, чем -4 или точности, иначе обычный формат|\n",
    "|`%r`|Строка (литерал python)|\n",
    "|`%s`|Строка (как обычно воспринимается пользователем)|\n",
    "|`%%`|Знак `%`|\n",
    "\n",
    "Флаги преобразования:\n",
    "\n",
    "|Флаг|Значение|\n",
    "|---|:---|\n",
    "|`#`|Значение будет использовать альтернативную форму|\n",
    "|`0`|Свободное место будет заполнено нулями|\n",
    "|`-`|Свободное место будет заполнено пробелами справа|\n",
    "|` ` (пробел)|Свободное место будет заполнено пробелами справа|\n",
    "|`+`|Свободное место будет заполнено пробелами слева|"
   ]
  },
  {
   "cell_type": "code",
   "execution_count": null,
   "metadata": {
    "colab": {
     "base_uri": "https://localhost:8080/",
     "height": 136
    },
    "colab_type": "code",
    "executionInfo": {
     "elapsed": 1457,
     "status": "ok",
     "timestamp": 1575277126575,
     "user": {
      "displayName": "Надежда Демиденко",
      "photoUrl": "https://lh3.googleusercontent.com/a-/AAuE7mA6D7k5OgtG9hzPe8Abs8DfOKAXQoTXaPfn7EY=s64",
      "userId": "05224310221243935536"
     },
     "user_tz": -180
    },
    "id": "NBvmPVmV1Gxy",
    "outputId": "ec0b1790-d510-4144-eaee-fdd72a5ae916"
   },
   "outputs": [],
   "source": [
    "print ('%(language)s has %(number)03d quote types.' % {\"language\": \"Python\", \"number\": 2})\n",
    "\n",
    "print('%.2s' % 'Hello!')\n",
    "print('%.*s' % (2, 'Hello!'))\n",
    "print('%-10d' % 25)\n",
    "print('%+10f' % 25)\n",
    "print('+25.000000')\n",
    "print('%+10s' % 'Hello')"
   ]
  },
  {
   "cell_type": "markdown",
   "metadata": {
    "colab_type": "text",
    "id": "bRGQz2J89FXT"
   },
   "source": [
    "#### Метод **format**"
   ]
  },
  {
   "cell_type": "code",
   "execution_count": null,
   "metadata": {
    "colab": {
     "base_uri": "https://localhost:8080/",
     "height": 136
    },
    "colab_type": "code",
    "executionInfo": {
     "elapsed": 1315,
     "status": "ok",
     "timestamp": 1575279818764,
     "user": {
      "displayName": "Надежда Демиденко",
      "photoUrl": "https://lh3.googleusercontent.com/a-/AAuE7mA6D7k5OgtG9hzPe8Abs8DfOKAXQoTXaPfn7EY=s64",
      "userId": "05224310221243935536"
     },
     "user_tz": -180
    },
    "id": "xyN98bDL9DvY",
    "outputId": "76910550-2d50-4faa-d035-90e32f00d3e7"
   },
   "outputs": [],
   "source": [
    "name = 'Vasya'\n",
    "print('Hello, {}!'.format(name))\n",
    "\n",
    "print('{0}, {1}, {2}'.format('a', 'b', 'c'))\n",
    "print('{}, {}, {}'.format('a', 'b', 'c'))\n",
    "print('{2}, {1}, {0}'.format('a', 'b', 'c'))\n",
    "print('{2}, {1}, {0}'.format(*'abc'))\n",
    "\n",
    "print('Coordinates: {latitude}, {longitude}'.format(latitude='37.24N', longitude='-115.81W'))\n",
    "\n",
    "coord = {'latitude': '37.24N', 'longitude': '-115.81W'}\n",
    "print('Coordinates: {latitude}, {longitude}'.format(**coord))"
   ]
  },
  {
   "cell_type": "markdown",
   "metadata": {
    "colab_type": "text",
    "id": "ks1w757EA03H"
   },
   "source": [
    "Синтаксис метода format:\n",
    "\n",
    "|||\n",
    "|---|---|\n",
    "|поле замены |`\"{\" [имя поля] [\"!\" преобразование] [\":\" спецификация] \"}\"`|\n",
    "|имя поля|`arg_name (\".\" имя атрибута \\| \"[\" индекс \"]\")*`|\n",
    "|преобразование|`\"r\" (внутреннее представление) \\| \"s\" (человеческое представление)`|\n",
    "|спецификация|см. таблица ниже|\n",
    "\n",
    "Спецификация формата\n",
    "\n",
    "|||\n",
    "|---|:---|\n",
    "|спецификация|`[[fill]align][sign][#][0][width][,][.precision][type]`|\n",
    "|заполнитель|символ кроме `{` или `}`|\n",
    "|выравнивание|\"<\" \\| \">\" \\| \"=\" \\| \"^\"|\n",
    "|знак|\"+\" \\| \"-\" \\| \" \"|\n",
    "|ширина|integer|\n",
    "|точность|integer|\n",
    "|тип|\"b\" \\| \"c\" \\| \"d\" \\| \"e\" \\| \"E\" \\| \"f\" \\| \"F\" \\| \"g\" \\| \"G\" \\| \"n\" \\| \"o\" \\| \"s\" \\| \"x\" \\| \"X\" \\| \"%\"|\n",
    "\n",
    "Выравнивание производится при помощи символа-заполнителя. Доступны следующие варианты выравнивания:\n",
    "\n",
    "|Флаг|Значение|\n",
    "|---|:---|\n",
    "|`<`|Символы-заполнители будут справа (выравнивание объекта по левому краю) (по умолчанию)|\n",
    "|`>`|выравнивание объекта по правому краю|\n",
    "|`=`|Заполнитель будет после знака, но перед цифрами. Работает только с числовыми типами|\n",
    "|`^`|Выравнивание по центру|\n",
    "\n",
    "Опция \"знак\" используется только для чисел и может принимать следующие значения:\n",
    "\n",
    "|Флаг|Значение|\n",
    "|---|:---|\n",
    "|`+`|Знак должен быть использован для всех чисел|\n",
    "|`-`|'-' для отрицательных, ничего для положительных|\n",
    "|'Пробел'|'-' для отрицательных, пробел для положительных|\n",
    "\n",
    "Поле \"тип\" может принимать следующие значения:\n",
    "\n",
    "|Тип|Значение|\n",
    "|---|:---|\n",
    "|`d`, `i`, `u`|Десятичное число|\n",
    "|`o`|Число в восьмеричной системе счисления|\n",
    "|`x`|Число в шестнадцатеричной системе счисления (буквы в нижнем регистре)|\n",
    "|`X`|Число в шестнадцатеричной системе счисления (буквы в верхнем регистре)|\n",
    "|`e`|Число с плавающей точкой с экспонентой (экспонента в нижнем регистре)|\n",
    "|`E`|Число с плавающей точкой с экспонентой (экспонента в верхнем регистре)|\n",
    "|`f`, `F`|Число с плавающей точкой (обычный формат)|\n",
    "|`g`|Число с плавающей точкой. с экспонентой (экспонента в нижнем регистре), если она меньше, чем -4 или точности, иначе обычный формат|\n",
    "|`G`|Число с плавающей точкой. с экспонентой (экспонента в верхнем регистре), если она меньше, чем -4 или точности, иначе обычный формат|\n",
    "|`c`|Символ (строка из одного символа или число - код символа)|\n",
    "|`s`|Строка|\n",
    "|`%`|Число умножается на 100, отображается число с плавающей точкой, а за ним знак %|\n",
    "\n"
   ]
  },
  {
   "cell_type": "code",
   "execution_count": 5,
   "metadata": {
    "colab": {
     "base_uri": "https://localhost:8080/",
     "height": 85
    },
    "colab_type": "code",
    "executionInfo": {
     "elapsed": 1087,
     "status": "ok",
     "timestamp": 1575281946261,
     "user": {
      "displayName": "Надежда Демиденко",
      "photoUrl": "https://lh3.googleusercontent.com/a-/AAuE7mA6D7k5OgtG9hzPe8Abs8DfOKAXQoTXaPfn7EY=s64",
      "userId": "05224310221243935536"
     },
     "user_tz": -180
    },
    "id": "2iphdJ8cGWRR",
    "outputId": "0ed8e48f-6a62-4a09-9e08-0da340c4914e"
   },
   "outputs": [
    {
     "name": "stdout",
     "output_type": "stream",
     "text": [
      "int: 42;  hex: 2a;  oct: 52;  bin: 101010\n",
      "Correct answers: 88.64%\n",
      "           centered           \n",
      "***********centered***********\n"
     ]
    }
   ],
   "source": [
    "# Несколько примеров\n",
    "\n",
    "print(\"int: {0:d};  hex: {0:x};  oct: {0:o};  bin: {0:b}\".format(42))\n",
    "\n",
    "points = 19.5\n",
    "total = 22\n",
    "print('Correct answers: {:.2%}'.format(points/total))\n",
    "\n",
    "print('{:^30}'.format('centered'))\n",
    "print('{:*^30}'.format('centered'))"
   ]
  },
  {
   "cell_type": "markdown",
   "metadata": {
    "colab_type": "text",
    "id": "KDDNupK4X-_n"
   },
   "source": [
    "#### F-строки\n",
    "\n",
    "С версии Python 3.6 появился новый способ: f-строки. F-строки предоставляют способ встраивания выражений внутри строковых литералов с минимальным синтаксисом. Стоит обратить внимание на то, что f-строка является выражением, которое оценивается по мере выполнения, а не постоянным значением. \n",
    "\n",
    "В исходном коде Python f-строки является литеральной строкой с префиксом f, которая содержит выражения внутри скобок. Выражения заменяются их значением."
   ]
  },
  {
   "cell_type": "code",
   "execution_count": 6,
   "metadata": {
    "colab": {
     "base_uri": "https://localhost:8080/",
     "height": 102
    },
    "colab_type": "code",
    "executionInfo": {
     "elapsed": 642,
     "status": "ok",
     "timestamp": 1575236533893,
     "user": {
      "displayName": "Надежда Демиденко",
      "photoUrl": "https://lh3.googleusercontent.com/a-/AAuE7mA6D7k5OgtG9hzPe8Abs8DfOKAXQoTXaPfn7EY=s64",
      "userId": "05224310221243935536"
     },
     "user_tz": -180
    },
    "id": "xtRKhnsMYouR",
    "outputId": "d5b06b08-1421-4d8b-b5d0-485245317d17"
   },
   "outputs": [
    {
     "ename": "SyntaxError",
     "evalue": "invalid syntax (<ipython-input-6-15d1f28f0198>, line 7)",
     "output_type": "error",
     "traceback": [
      "\u001b[0;36m  File \u001b[0;32m\"<ipython-input-6-15d1f28f0198>\"\u001b[0;36m, line \u001b[0;32m7\u001b[0m\n\u001b[0;31m    print(f\"Hello, {name}. You are {age}.\")\u001b[0m\n\u001b[0m                                         ^\u001b[0m\n\u001b[0;31mSyntaxError\u001b[0m\u001b[0;31m:\u001b[0m invalid syntax\n"
     ]
    }
   ],
   "source": [
    "name = \"Eric Idle\"\n",
    "age = 74\n",
    "profession = \"comedian\"\n",
    "affiliation = \"Monty Python\"\n",
    "\n",
    "# Переменные \n",
    "print(f\"Hello, {name}. You are {age}.\")\n",
    "print(F\"Hello, {name}. You are {age}.\")\n",
    "\n",
    "# Произвольные выражения\n",
    "print(f\"{2 * 37}\")\n",
    "\n",
    "# Вызов функций\n",
    "print(f\"{name.lower()} is funny.\")\n",
    "\n",
    "# Многострочные f-strings\n",
    "message = (\n",
    "    f\"Hi {name}. \"\n",
    "    f\"You are a {profession}. \"\n",
    "    f\"You were in {affiliation}.\"\n",
    ")\n",
    " \n",
    "print(message)"
   ]
  },
  {
   "cell_type": "code",
   "execution_count": null,
   "metadata": {
    "colab": {
     "base_uri": "https://localhost:8080/",
     "height": 85
    },
    "colab_type": "code",
    "executionInfo": {
     "elapsed": 1333,
     "status": "ok",
     "timestamp": 1575282366784,
     "user": {
      "displayName": "Надежда Демиденко",
      "photoUrl": "https://lh3.googleusercontent.com/a-/AAuE7mA6D7k5OgtG9hzPe8Abs8DfOKAXQoTXaPfn7EY=s64",
      "userId": "05224310221243935536"
     },
     "user_tz": -180
    },
    "id": "qL7pczoXJA9Z",
    "outputId": "69c3ed93-074b-48c2-bd8d-01f418c80f7a"
   },
   "outputs": [],
   "source": [
    "# После двоеточия в f-строках можно указывать те же значения, что и при использовании format:\n",
    "\n",
    "oct1, oct2, oct3, oct4 = [10, 1, 1, 1]\n",
    "print(f'''\n",
    "  IP address:\n",
    "  {oct1:<8} {oct2:<8} {oct3:<8} {oct4:<8}\n",
    "  {oct1:08b} {oct2:08b} {oct3:08b} {oct4:08b}''')"
   ]
  },
  {
   "cell_type": "markdown",
   "metadata": {
    "colab_type": "text",
    "id": "-C9W60c46r0t"
   },
   "source": [
    "## Функции и методы работы со строками"
   ]
  },
  {
   "cell_type": "markdown",
   "metadata": {
    "colab_type": "text",
    "id": "k9nIMFL56r0x"
   },
   "source": [
    "### Базовые методы"
   ]
  },
  {
   "cell_type": "code",
   "execution_count": null,
   "metadata": {
    "colab": {},
    "colab_type": "code",
    "id": "kc2BCMQM6r02",
    "outputId": "3a6f8293-3022-4956-daf7-c435b178377b"
   },
   "outputs": [],
   "source": [
    "# Конкатенация (сложение)\n",
    "s1 = 'abc'\n",
    "s2 = 'def'\n",
    "s = s1 + s2\n",
    "print(s)\n",
    "\n",
    "# Дублирование (умножение)\n",
    "print(s*3)\n",
    "\n",
    "# Длина строки\n",
    "print(len(s))\n",
    "\n",
    "# Доступ по индексу (нумерация идет с 0!)\n",
    "# Отрицательный индекс означает, что счет будет вестись с конца\n",
    "print(s[0])\n",
    "print(s[3])\n",
    "print(s[-1])\n"
   ]
  },
  {
   "cell_type": "markdown",
   "metadata": {
    "colab_type": "text",
    "id": "Hb30Dq6y6r09"
   },
   "source": [
    "Так как строки являются неизменяемым типом, все функции и методы будут создавать новый объект.\n",
    "\n",
    "Попытка изменить один символ при помощи доступа по индексу приведет к ошибке:"
   ]
  },
  {
   "cell_type": "code",
   "execution_count": null,
   "metadata": {
    "colab": {},
    "colab_type": "code",
    "id": "xZ67zLrU6r0_",
    "outputId": "d06a926e-8d86-4dde-9491-94edc13ba9bb",
    "scrolled": true
   },
   "outputs": [],
   "source": [
    "# Неправильно\n",
    "s = 'abcdef'\n",
    "s[2] = 'Z'"
   ]
  },
  {
   "cell_type": "code",
   "execution_count": null,
   "metadata": {
    "colab": {},
    "colab_type": "code",
    "id": "1l-2ar9L6r1G",
    "outputId": "10bcdaaa-145d-4574-a86e-51953623a70e",
    "scrolled": true
   },
   "outputs": [],
   "source": [
    "# Правильно\n",
    "s = 'abcdef'\n",
    "s = s[:2] + 'Z' + s[3:]\n",
    "print(s)"
   ]
  },
  {
   "cell_type": "markdown",
   "metadata": {
    "colab_type": "text",
    "id": "8CEqhN5W6r1O"
   },
   "source": [
    "### Срез\n",
    "\n",
    "Срез возвращает подстроку.\n",
    "\n",
    "Оператор извлечения среза: `[Start:Stop]`. Start – начало среза, а Stop – окончание;\n",
    "\n",
    "Символ с номером Stop в срез не входит. По умолчанию первый индекс равен 0, а второй - длине строки."
   ]
  },
  {
   "cell_type": "code",
   "execution_count": null,
   "metadata": {
    "colab": {},
    "colab_type": "code",
    "id": "QHBUuxNV6r1Q",
    "outputId": "a7e71319-94d7-4b78-9541-b1baafc57b3a"
   },
   "outputs": [],
   "source": [
    "s = 'abcdef'\n",
    "\n",
    "print('3:5 ', s[3:5])\n",
    "print('2:-2', s[2:-2])\n",
    "print(' :4 ', s[:4])\n",
    "print('1:  ', s[1:])\n",
    "print(' :  ', s[:])"
   ]
  },
  {
   "cell_type": "markdown",
   "metadata": {
    "colab_type": "text",
    "id": "AeUK_5-z6r1a"
   },
   "source": [
    "Кроме того, можно задать шаг, с которым нужно извлекать срез: `[Start:Stop:Step]`.\n",
    "\n",
    "Отрицательное значение шага будет означать, что строка будет пройдена в обратном направлении."
   ]
  },
  {
   "cell_type": "code",
   "execution_count": null,
   "metadata": {
    "colab": {},
    "colab_type": "code",
    "id": "QExj_NSq6r1d",
    "outputId": "0b74cece-fb66-4455-bcd1-dab9c93b37e5",
    "scrolled": true
   },
   "outputs": [],
   "source": [
    "s = 'abcdef'\n",
    "\n",
    "print(' : :-1', s[::-1])\n",
    "print('3:5:-1', s[3:5:-1])\n",
    "print('5:3:-1', s[5:3:-1])\n",
    "print('1: : 2', s[1::2])"
   ]
  },
  {
   "cell_type": "markdown",
   "metadata": {
    "colab_type": "text",
    "id": "HeYsPyDL6r1n"
   },
   "source": [
    "### Прочие функции\n",
    "\n",
    "|Функция|Назначение|\n",
    "|---|:---|\n",
    "|`S.find(str, [start],[end])`|Поиск подстроки в строке. Возвращает номер первого вхождения или -1|\n",
    "|`S.rfind(str, [start],[end])`|Поиск подстроки в строке. Возвращает номер последнего вхождения или -1|\n",
    "|`S.index(str, [start],[end])`|Поиск подстроки в строке. Возвращает номер первого вхождения или вызывает ValueError|\n",
    "|`S.rindex(str, [start],[end])`|Поиск подстроки в строке. Возвращает номер последнего вхождения или вызывает ValueError|\n",
    "|`S.replace(шаблон, замена)`|Замена шаблона|\n",
    "|`S.split(символ)`|Разбиение строки по разделителю|\n",
    "|`S.isdigit()`|Состоит ли строка из цифр|\n",
    "|`S.isalpha()`|Состоит ли строка из букв|\n",
    "|`S.isalnum()`|Состоит ли строка из цифр или букв|\n",
    "|`S.islower()`|Состоит ли строка из символов в нижнем регистре|\n",
    "|`S.isupper()`|Состоит ли строка из символов в верхнем регистре|\n",
    "|`S.isspace()`|Состоит ли строка из неотображаемых символов (пробел, символ перевода страницы (`\\f`), \"новая строка\" (`\\n`), \"перевод каретки\" (`\\r`), \"горизонтальная табуляция\" (`\\t`) и \"вертикальная табуляция\" (`\\v`))|\n",
    "|`S.istitle()`|Начинаются ли слова в строке с заглавной буквы|\n",
    "|`S.upper()`|Преобразование строки к верхнему регистру|\n",
    "|`S.lower()`|Преобразование строки к нижнему регистру|\n",
    "|`S.startswith(str)`|Начинается ли строка S с шаблона str|\n",
    "|`S.endswith(str)`|Заканчивается ли строка S шаблоном str|\n",
    "|`S.join(список)`|Сборка строки из списка с разделителем S|\n",
    "|`ord(символ)`|Символ в его код ASCII|\n",
    "|`chr(число)`|Код ASCII в символ|\n",
    "|`S.capitalize()`|Переводит первый символ строки в верхний регистр, а все остальные в нижний|\n",
    "|`S.center(width, [fill])`|Возвращает отцентрованную строку, по краям которой стоит символ fill (пробел по умолчанию)|\n",
    "|`S.count(str, [start],[end])`|Возвращает количество непересекающихся вхождений подстроки в диапазоне [начало, конец] (0 и длина строки по умолчанию)|\n",
    "|`S.expandtabs([tabsize])`|Возвращает копию строки, в которой все символы табуляции заменяются одним или несколькими пробелами, в зависимости от текущего столбца. Если TabSize не указан, размер табуляции полагается равным 8 пробелам|\n",
    "|`S.lstrip([chars])`|Удаление пробельных символов в начале строки|\n",
    "|`S.rstrip([chars])`|Удаление пробельных символов в конце строки|\n",
    "|`S.strip([chars])`|Удаление пробельных символов в начале и в конце строки|\n",
    "|`S.partition(шаблон)`|Возвращает кортеж, содержащий часть перед первым шаблоном, сам шаблон, и часть после шаблона. Если шаблон не найден, возвращается кортеж, содержащий саму строку, а затем две пустых строки|\n",
    "|`S.rpartition(sep)`|Возвращает кортеж, содержащий часть перед последним шаблоном, сам шаблон, и часть после шаблона. Если шаблон не найден, возвращается кортеж, содержащий две пустых строки, а затем саму строку|\n",
    "|`S.swapcase()`|Переводит символы нижнего регистра в верхний, а верхнего – в нижний|\n",
    "|`S.title()`|Первую букву каждого слова переводит в верхний регистр, а все остальные в нижний|\n",
    "|`S.zfill(width)`|Делает длину строки не меньшей width, по необходимости заполняя первые символы нулями|\n",
    "|`S.ljust(width, fillchar=\" \")`|Делает длину строки не меньшей width, по необходимости заполняя последние символы символом fillchar|\n",
    "|`S.rjust(width, fillchar=\" \")`|Делает длину строки не меньшей width, по необходимости заполняя первые символы символом fillchar|\n",
    "|`S.format(*args, **kwargs)`|Форматирование строки|"
   ]
  },
  {
   "cell_type": "code",
   "execution_count": null,
   "metadata": {
    "colab": {
     "base_uri": "https://localhost:8080/",
     "height": 136
    },
    "colab_type": "code",
    "executionInfo": {
     "elapsed": 1646,
     "status": "ok",
     "timestamp": 1575283586234,
     "user": {
      "displayName": "Надежда Демиденко",
      "photoUrl": "https://lh3.googleusercontent.com/a-/AAuE7mA6D7k5OgtG9hzPe8Abs8DfOKAXQoTXaPfn7EY=s64",
      "userId": "05224310221243935536"
     },
     "user_tz": -180
    },
    "id": "6-nl8p6r6r1r",
    "outputId": "7ce6bbc8-57c5-496a-f4b6-64a2a3885ba2"
   },
   "outputs": [],
   "source": [
    "# Некоторые примеры функций работы со строками\n",
    "\n",
    "# Метод split\n",
    "\n",
    "s = 'abcdef abcba aaa'\n",
    "# Если разделитель не указан, выполняется разбитие по пробелу\n",
    "print(s.split())\n",
    "print(s.split('c'))\n",
    "# в параметре maxsplit указывается максимальное количество разбиений. По умолчанию -1, то есть без ограничений\n",
    "print(s.split('c', maxsplit=1))"
   ]
  },
  {
   "cell_type": "code",
   "execution_count": null,
   "metadata": {
    "colab": {},
    "colab_type": "code",
    "id": "ZM5b-svROG2a"
   },
   "outputs": [],
   "source": [
    "# Метод join\n",
    "\n",
    "# возвращается строка, полученная соединением элементов переданного списка в одну строку, \n",
    "# при этом между элементами списка вставляется разделитель, равный той строке, к которой применяется метод.\n",
    "\n",
    "a = ['red', 'green', 'blue']\n",
    "print(' '.join(a))\n",
    "print(''.join(a))\n",
    "print('***'.join(a))"
   ]
  },
  {
   "cell_type": "code",
   "execution_count": null,
   "metadata": {
    "colab": {
     "base_uri": "https://localhost:8080/",
     "height": 51
    },
    "colab_type": "code",
    "executionInfo": {
     "elapsed": 985,
     "status": "ok",
     "timestamp": 1575283734335,
     "user": {
      "displayName": "Надежда Демиденко",
      "photoUrl": "https://lh3.googleusercontent.com/a-/AAuE7mA6D7k5OgtG9hzPe8Abs8DfOKAXQoTXaPfn7EY=s64",
      "userId": "05224310221243935536"
     },
     "user_tz": -180
    },
    "id": "dNcC7T93OSdY",
    "outputId": "99900bf1-c683-4b72-c7cb-61c5dee521ab"
   },
   "outputs": [],
   "source": [
    "# Метод replace\n",
    "s = 'abcabcbabc'\n",
    "print(s.replace('c','Z'))\n",
    "# третьим параметром может стоять количество замен (от начала строки)\n",
    "print(s.replace('c','Z', 2))"
   ]
  },
  {
   "cell_type": "markdown",
   "metadata": {
    "colab_type": "text",
    "id": "RUQn37EgmgIT"
   },
   "source": [
    "# Задачи для практики\n",
    "\n",
    "- В строке заменить пробелы звездочкой. Если встречается подряд несколько пробелов, то их следует заменить одним знаком \"*\", пробелы в начале и конце строки удалить.\n",
    "- В строке найти все слова, в которых содержится заданная подстрока, и вывести эти слова целиком."
   ]
  },
  {
   "cell_type": "code",
   "execution_count": 13,
   "metadata": {},
   "outputs": [
    {
     "data": {
      "text/plain": [
       "'it*is*good*day'"
      ]
     },
     "execution_count": 13,
     "metadata": {},
     "output_type": "execute_result"
    }
   ],
   "source": [
    "s = ' it is   good day '\n",
    "s = s.strip().split(' ')\n",
    "\n",
    "tmp = []\n",
    "for word in s:\n",
    "    if word is not '':\n",
    "        tmp.append(word)\n",
    "\n",
    "s = '*'.join(tmp)\n",
    "s"
   ]
  },
  {
   "cell_type": "code",
   "execution_count": 20,
   "metadata": {},
   "outputs": [
    {
     "name": "stdout",
     "output_type": "stream",
     "text": [
      "it\n",
      "t its   gooitd diaty \n",
      "it\n",
      "s   gooitd diaty \n",
      "it\n",
      "d diaty \n"
     ]
    }
   ],
   "source": [
    "s = ' itt its   gooitd diaty '\n",
    "s_copy = s\n",
    "for index in range(len(s_copy)):\n",
    "    it = s_copy.find('it', index)\n",
    "    if it != -1:\n",
    "        print(s_copy[it:it+2])\n",
    "        s_copy = s_copy[it+2:]\n",
    "        print(s_copy)"
   ]
  },
  {
   "cell_type": "code",
   "execution_count": 21,
   "metadata": {},
   "outputs": [
    {
     "name": "stdout",
     "output_type": "stream",
     "text": [
      "(' ', 'it', 't its   gooitd diaty ')\n"
     ]
    }
   ],
   "source": [
    "s = ' itt its   gooitd diaty '\n",
    "wh\n",
    "tmp = s.partition('it')\n",
    "print(tmp)"
   ]
  },
  {
   "cell_type": "code",
   "execution_count": null,
   "metadata": {},
   "outputs": [],
   "source": []
  }
 ],
 "metadata": {
  "colab": {
   "name": "topic03.ipynb",
   "provenance": []
  },
  "kernelspec": {
   "display_name": "Python 2",
   "language": "python",
   "name": "python2"
  },
  "language_info": {
   "codemirror_mode": {
    "name": "ipython",
    "version": 2
   },
   "file_extension": ".py",
   "mimetype": "text/x-python",
   "name": "python",
   "nbconvert_exporter": "python",
   "pygments_lexer": "ipython2",
   "version": "2.7.15+"
  }
 },
 "nbformat": 4,
 "nbformat_minor": 1
}
