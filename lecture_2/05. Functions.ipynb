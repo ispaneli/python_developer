{
 "cells": [
  {
   "cell_type": "markdown",
   "metadata": {
    "colab_type": "text",
    "id": "2E9PSVGar_P2"
   },
   "source": [
    "# Функции, распаковка аргументов"
   ]
  },
  {
   "cell_type": "markdown",
   "metadata": {
    "colab_type": "text",
    "id": "G8cvP38xsA9c"
   },
   "source": [
    "Функция в python - объект, принимающий аргументы и возвращающий значение. Обычно функция определяется с помощью инструкции def.\n",
    "\n",
    "Определим простейшую функцию:"
   ]
  },
  {
   "cell_type": "code",
   "execution_count": null,
   "metadata": {
    "colab": {
     "base_uri": "https://localhost:8080/",
     "height": 51
    },
    "colab_type": "code",
    "executionInfo": {
     "elapsed": 921,
     "status": "ok",
     "timestamp": 1575291863858,
     "user": {
      "displayName": "Надежда Демиденко",
      "photoUrl": "https://lh3.googleusercontent.com/a-/AAuE7mA6D7k5OgtG9hzPe8Abs8DfOKAXQoTXaPfn7EY=s64",
      "userId": "05224310221243935536"
     },
     "user_tz": -180
    },
    "id": "LAuK2PEUsKVt",
    "outputId": "155ca390-8ab2-4138-9b31-41dfe657958f"
   },
   "outputs": [],
   "source": [
    "def add(x, y):\n",
    "    return x + y            # Инструкция return возвращает значение.\n",
    "\n",
    "print(add(1, 10))\n",
    "print(add('abc', 'def'))\n"
   ]
  },
  {
   "cell_type": "markdown",
   "metadata": {
    "colab_type": "text",
    "id": "9_RoJGBas3Q5"
   },
   "source": [
    "Функция может не врзвращать значение. Тогда она вернет `None`."
   ]
  },
  {
   "cell_type": "code",
   "execution_count": null,
   "metadata": {
    "colab": {
     "base_uri": "https://localhost:8080/",
     "height": 34
    },
    "colab_type": "code",
    "executionInfo": {
     "elapsed": 1212,
     "status": "ok",
     "timestamp": 1575291853814,
     "user": {
      "displayName": "Надежда Демиденко",
      "photoUrl": "https://lh3.googleusercontent.com/a-/AAuE7mA6D7k5OgtG9hzPe8Abs8DfOKAXQoTXaPfn7EY=s64",
      "userId": "05224310221243935536"
     },
     "user_tz": -180
    },
    "id": "-yI4x4-EtedU",
    "outputId": "4ac3e7da-bae3-44d9-a4b6-42f527fb8678"
   },
   "outputs": [],
   "source": [
    "def func():\n",
    "    pass\n",
    "\n",
    "print(func())"
   ]
  },
  {
   "cell_type": "markdown",
   "metadata": {
    "colab_type": "text",
    "id": "yBVIEOjKtnGm"
   },
   "source": [
    "## Аргументы функции\n",
    "\n",
    "Функция может принимать произвольное количество аргументов или не принимать их вовсе. Также распространены функции с произвольным числом аргументов, функции с позиционными и именованными аргументами, обязательными и необязательными."
   ]
  },
  {
   "cell_type": "code",
   "execution_count": null,
   "metadata": {
    "colab": {
     "base_uri": "https://localhost:8080/",
     "height": 85
    },
    "colab_type": "code",
    "executionInfo": {
     "elapsed": 1148,
     "status": "ok",
     "timestamp": 1575633834091,
     "user": {
      "displayName": "Надежда Демиденко",
      "photoUrl": "https://lh3.googleusercontent.com/a-/AAuE7mA6D7k5OgtG9hzPe8Abs8DfOKAXQoTXaPfn7EY=s64",
      "userId": "05224310221243935536"
     },
     "user_tz": -180
    },
    "id": "rD-EwNEyuAW-",
    "outputId": "4e21c441-f0c7-4d0b-f875-5d822aaceab2"
   },
   "outputs": [],
   "source": [
    "# Позиционные аргументы, передаются при вызове строго в том порядке, в котором описаны\n",
    "def func(a, b, c=2): # c - необязательный аргумент\n",
    "    return a + b + c\n",
    "\n",
    "print(func(1, 2))  # a = 1, b = 2, c = 2 (по умолчанию)\n",
    "print(func(1, 2, 3))  # a = 1, b = 2, c = 3\n",
    "\n",
    "# Но к ним можно обратиться и по имени\n",
    "print(func(a=1, b=3))  # a = 1, b = 3, c = 2\n",
    "print(func(a=3, c=6))  # a = 3, c = 6, b не определен, ошибка TypeError"
   ]
  },
  {
   "cell_type": "markdown",
   "metadata": {
    "colab_type": "text",
    "id": "PCUL1a0jFhhm"
   },
   "source": [
    "При использовании позиционных аргументов вы вынуждены соблюдать их порядок, в то время как именованные аргументы можно расположить как угодно. Также они позволяют не указывать значения аргументов, у которых есть значения по умолчанию.\n",
    "\n",
    "Если мы хотим получить только именованные аргументы без захвата неограниченного количества позиционных, Python позволяет сделать это с помощью одинокой звёздочки:"
   ]
  },
  {
   "cell_type": "code",
   "execution_count": 1,
   "metadata": {
    "colab": {
     "base_uri": "https://localhost:8080/",
     "height": 248
    },
    "colab_type": "code",
    "executionInfo": {
     "elapsed": 1062,
     "status": "error",
     "timestamp": 1575634129382,
     "user": {
      "displayName": "Надежда Демиденко",
      "photoUrl": "https://lh3.googleusercontent.com/a-/AAuE7mA6D7k5OgtG9hzPe8Abs8DfOKAXQoTXaPfn7EY=s64",
      "userId": "05224310221243935536"
     },
     "user_tz": -180
    },
    "id": "NIO-KmXUB0Dn",
    "outputId": "698b7953-8467-4625-80c1-67526eaf14ce"
   },
   "outputs": [
    {
     "ename": "SyntaxError",
     "evalue": "invalid syntax (<ipython-input-1-cc0ee2400ff2>, line 2)",
     "output_type": "error",
     "traceback": [
      "\u001b[0;36m  File \u001b[0;32m\"<ipython-input-1-cc0ee2400ff2>\"\u001b[0;36m, line \u001b[0;32m2\u001b[0m\n\u001b[0;31m    def foo(a, b=3, *, c, d=10):\u001b[0m\n\u001b[0m                     ^\u001b[0m\n\u001b[0;31mSyntaxError\u001b[0m\u001b[0;31m:\u001b[0m invalid syntax\n"
     ]
    }
   ],
   "source": [
    "# Все аргументы после звездочки являются строго именованными\n",
    "def foo(a, b=3, *, c, d=10):\n",
    "    return(a, b, c, d)\n",
    "\n",
    "print(foo(1, 2, c=3, d=4))\n",
    "print(foo(1, c=3, d=4))\n",
    "# К первым двум по-прежнему можно обращаться и по имени\n",
    "print(foo(a=10, b=20, c=30, d=40))\n",
    "\n",
    "# Попытка передачи аргументов как позиционных приведет к ошибке:\n",
    "print(foo(1, 2, 3, 4))"
   ]
  },
  {
   "cell_type": "markdown",
   "metadata": {
    "colab_type": "text",
    "id": "_jbrP93AuQxJ"
   },
   "source": [
    "Функция также может принимать переменное количество позиционных аргументов, тогда перед именем ставится `*`.\n",
    "\n",
    "`args` - это кортеж из всех переданных аргументов функции, и с переменной можно работать также, как и с кортежем."
   ]
  },
  {
   "cell_type": "code",
   "execution_count": null,
   "metadata": {
    "colab": {
     "base_uri": "https://localhost:8080/",
     "height": 68
    },
    "colab_type": "code",
    "executionInfo": {
     "elapsed": 957,
     "status": "ok",
     "timestamp": 1575293047043,
     "user": {
      "displayName": "Надежда Демиденко",
      "photoUrl": "https://lh3.googleusercontent.com/a-/AAuE7mA6D7k5OgtG9hzPe8Abs8DfOKAXQoTXaPfn7EY=s64",
      "userId": "05224310221243935536"
     },
     "user_tz": -180
    },
    "id": "dcQj5pLVucAZ",
    "outputId": "5f9af835-767f-41f4-c08d-90d27e916d95"
   },
   "outputs": [],
   "source": [
    "def func(*args):\n",
    "    return args\n",
    "\n",
    "print(func(1, 2, 3, 'abc'))\n",
    "print(func())\n",
    "print(func(1))"
   ]
  },
  {
   "cell_type": "markdown",
   "metadata": {
    "colab_type": "text",
    "id": "2xlrXoh7uvKW"
   },
   "source": [
    "Функция может принимать и произвольное число именованных аргументов, тогда перед именем ставится `**`.\n",
    "\n",
    "В переменной `kwargs` у нас хранится словарь, с которым мы тоже можем производить операции."
   ]
  },
  {
   "cell_type": "code",
   "execution_count": 2,
   "metadata": {
    "colab": {
     "base_uri": "https://localhost:8080/",
     "height": 68
    },
    "colab_type": "code",
    "executionInfo": {
     "elapsed": 1217,
     "status": "ok",
     "timestamp": 1575292272047,
     "user": {
      "displayName": "Надежда Демиденко",
      "photoUrl": "https://lh3.googleusercontent.com/a-/AAuE7mA6D7k5OgtG9hzPe8Abs8DfOKAXQoTXaPfn7EY=s64",
      "userId": "05224310221243935536"
     },
     "user_tz": -180
    },
    "id": "A3l4ExdcuuQ4",
    "outputId": "0ca68134-49e8-458e-c32c-62871d90f22b"
   },
   "outputs": [
    {
     "name": "stdout",
     "output_type": "stream",
     "text": [
      "{'a': 1, 'c': 3, 'b': 2}\n",
      "{}\n",
      "{'a': 'python'}\n"
     ]
    }
   ],
   "source": [
    "def func(**kwargs):\n",
    "    return kwargs\n",
    "print(func(a=1, b=2, c=3))\n",
    "print(func())\n",
    "print(func(a='python'))"
   ]
  },
  {
   "cell_type": "markdown",
   "metadata": {
    "colab_type": "text",
    "id": "iPWkI6iSzFPD"
   },
   "source": [
    "## Распаковка\n",
    "\n",
    "В Python 3 также появилась возможность использовать оператор `*` для распаковки итерируемых объектов:"
   ]
  },
  {
   "cell_type": "code",
   "execution_count": null,
   "metadata": {
    "colab": {
     "base_uri": "https://localhost:8080/",
     "height": 68
    },
    "colab_type": "code",
    "executionInfo": {
     "elapsed": 1068,
     "status": "ok",
     "timestamp": 1575297553302,
     "user": {
      "displayName": "Надежда Демиденко",
      "photoUrl": "https://lh3.googleusercontent.com/a-/AAuE7mA6D7k5OgtG9hzPe8Abs8DfOKAXQoTXaPfn7EY=s64",
      "userId": "05224310221243935536"
     },
     "user_tz": -180
    },
    "id": "Fl6DfwkcDD7P",
    "outputId": "a7bcfdb6-700f-449f-9e58-a95eed14a76e"
   },
   "outputs": [],
   "source": [
    "fruits = ['lemon', 'pear', 'watermelon', 'tomato']\n",
    "first, second, *remaining = fruits\n",
    "print(remaining)\n",
    "\n",
    "first, *remaining = fruits\n",
    "print(remaining)\n",
    "\n",
    "first, *middle, last = fruits\n",
    "print(middle)"
   ]
  },
  {
   "cell_type": "markdown",
   "metadata": {
    "colab_type": "text",
    "id": "Lgcs6x9IDUAZ"
   },
   "source": [
    "В Python 3.5 появились новые способы использования оператора `*`. Например,  возможность сложить итерируемый объект в новый список.\n",
    "\n",
    "Допустим, у вас есть функция, которая принимает любую последовательность и возвращает список, состоящий из этой последовательности и её обратной копии, сконкатенированных вместе."
   ]
  },
  {
   "cell_type": "code",
   "execution_count": null,
   "metadata": {
    "colab": {},
    "colab_type": "code",
    "id": "ai1y4TwTD5Q1"
   },
   "outputs": [],
   "source": [
    "def palindromify(sequence):\n",
    "    return list(sequence) + list(reversed(sequence))"
   ]
  },
  {
   "cell_type": "markdown",
   "metadata": {
    "colab_type": "text",
    "id": "yHkTOXpXD--V"
   },
   "source": [
    "Здесь нам требуется несколько раз преобразовывать последовательности в списки, чтобы получить конечный результат. В Python 3.5 можно поступить по-другому:"
   ]
  },
  {
   "cell_type": "code",
   "execution_count": null,
   "metadata": {
    "colab": {},
    "colab_type": "code",
    "id": "DDt9h-cAD_uf"
   },
   "outputs": [],
   "source": [
    "def palindromify(sequence):\n",
    "    return [*sequence, *reversed(sequence)]"
   ]
  },
  {
   "cell_type": "markdown",
   "metadata": {
    "colab_type": "text",
    "id": "c5lScjQiEExB"
   },
   "source": [
    "Этот вариант избавляет нас от необходимости лишний раз вызывать `list` и делает наш код более эффективным и читаемым.\n",
    "\n",
    "Такой вариант использования оператора `*` является отличной возможностью для конкатенации итерируемых объектов разных типов. Оператор `*` работает с любым итерируемым объектом, в то время как оператор `+` работает только с определёнными последовательностями, которые должны быть одного типа."
   ]
  },
  {
   "cell_type": "code",
   "execution_count": null,
   "metadata": {
    "colab": {
     "base_uri": "https://localhost:8080/",
     "height": 51
    },
    "colab_type": "code",
    "executionInfo": {
     "elapsed": 941,
     "status": "ok",
     "timestamp": 1575298166488,
     "user": {
      "displayName": "Надежда Демиденко",
      "photoUrl": "https://lh3.googleusercontent.com/a-/AAuE7mA6D7k5OgtG9hzPe8Abs8DfOKAXQoTXaPfn7EY=s64",
      "userId": "05224310221243935536"
     },
     "user_tz": -180
    },
    "id": "tnh8VCyAEeNz",
    "outputId": "8c891ccb-93aa-492d-ef25-0f2bb24aeaf8"
   },
   "outputs": [],
   "source": [
    "fruits = ['lemon', 'pear', 'watermelon', 'tomato']\n",
    "print((*fruits[1:], fruits[0]))\n",
    "\n",
    "uppercase_fruits = (f.upper() for f in fruits)\n",
    "print({*fruits, *uppercase_fruits})    # новое множество из списка и генератора"
   ]
  },
  {
   "cell_type": "markdown",
   "metadata": {
    "colab_type": "text",
    "id": "33KGrE0VFd9z"
   },
   "source": [
    "В PEP 448 были также добавлены новые возможности для `**`, благодаря которым стало возможным перемещение пар ключ-значение из одного словаря (словарей) в новый:"
   ]
  },
  {
   "cell_type": "code",
   "execution_count": null,
   "metadata": {
    "colab": {
     "base_uri": "https://localhost:8080/",
     "height": 34
    },
    "colab_type": "code",
    "executionInfo": {
     "elapsed": 910,
     "status": "ok",
     "timestamp": 1575298163804,
     "user": {
      "displayName": "Надежда Демиденко",
      "photoUrl": "https://lh3.googleusercontent.com/a-/AAuE7mA6D7k5OgtG9hzPe8Abs8DfOKAXQoTXaPfn7EY=s64",
      "userId": "05224310221243935536"
     },
     "user_tz": -180
    },
    "id": "ULVNl_GfFjNG",
    "outputId": "05c7a7b6-ecab-4393-f6d1-1601be3faa5f"
   },
   "outputs": [],
   "source": [
    "date_info = {'year': \"2020\", 'month': \"01\", 'day': \"01\"}\n",
    "track_info = {'artist': \"Beethoven\", 'title': 'Symphony No 5'}\n",
    "all_info = {**date_info, **track_info}\n",
    "print(all_info)"
   ]
  },
  {
   "cell_type": "markdown",
   "metadata": {
    "colab_type": "text",
    "id": "k3He4HC5vTDR"
   },
   "source": [
    "## Анонимные функции, инструкция lambda\n",
    "\n",
    "Анонимные функции могут содержать лишь одно выражение, но и выполняются они быстрее.\n",
    "\n",
    "Анонимные функции создаются с помощью инструкции lambda. Кроме этого, их не обязательно присваивать переменной.\n",
    "\n",
    "lambda функции, в отличие от обычной, не требуется инструкция return, а в остальном, ведет себя точно так же:"
   ]
  },
  {
   "cell_type": "code",
   "execution_count": 3,
   "metadata": {
    "colab": {
     "base_uri": "https://localhost:8080/",
     "height": 102
    },
    "colab_type": "code",
    "executionInfo": {
     "elapsed": 1200,
     "status": "ok",
     "timestamp": 1575292510850,
     "user": {
      "displayName": "Надежда Демиденко",
      "photoUrl": "https://lh3.googleusercontent.com/a-/AAuE7mA6D7k5OgtG9hzPe8Abs8DfOKAXQoTXaPfn7EY=s64",
      "userId": "05224310221243935536"
     },
     "user_tz": -180
    },
    "id": "jvOnFFAqvlAK",
    "outputId": "2859db61-c49b-4174-ec52-a9bad0ba0b6e"
   },
   "outputs": [
    {
     "name": "stdout",
     "output_type": "stream",
     "text": [
      "3\n",
      "ab\n",
      "3\n",
      "ab\n",
      "(1, 2, 3, 4)\n"
     ]
    }
   ],
   "source": [
    "func = lambda x, y: x + y\n",
    "print(func(1, 2))\n",
    "print(func('a', 'b'))\n",
    "print((lambda x, y: x + y)(1, 2))\n",
    "print((lambda x, y: x + y)('a', 'b'))\n",
    "\n",
    "# lambda функции тоже можно передавать args и kwargs\n",
    "func = lambda *args: args\n",
    "print(func(1, 2, 3, 4))"
   ]
  },
  {
   "cell_type": "markdown",
   "metadata": {
    "colab_type": "text",
    "id": "MkL62azYwhWR"
   },
   "source": [
    "Как правило, lambda-выражения используются при вызове функций (или классов), которые принимают функцию в качестве аргумента.\n",
    "\n",
    "К примеру, встроенная функция сортировки Python принимает функцию в качестве ключевого аргумента. Эта ключевая функция использует для вычисления сравнительного ключа при определении порядка сортировки элементов."
   ]
  },
  {
   "cell_type": "code",
   "execution_count": 4,
   "metadata": {
    "colab": {
     "base_uri": "https://localhost:8080/",
     "height": 34
    },
    "colab_type": "code",
    "executionInfo": {
     "elapsed": 1117,
     "status": "ok",
     "timestamp": 1575292758798,
     "user": {
      "displayName": "Надежда Демиденко",
      "photoUrl": "https://lh3.googleusercontent.com/a-/AAuE7mA6D7k5OgtG9hzPe8Abs8DfOKAXQoTXaPfn7EY=s64",
      "userId": "05224310221243935536"
     },
     "user_tz": -180
    },
    "id": "Si3CQthew6u4",
    "outputId": "9b770a19-c753-4e90-9a79-5cf44b2eb7b2"
   },
   "outputs": [
    {
     "name": "stdout",
     "output_type": "stream",
     "text": [
      "['cyan', 'Goldenrod', 'purple', 'Salmon', 'turquoise']\n"
     ]
    }
   ],
   "source": [
    "colors = [\"Goldenrod\", \"purple\", \"Salmon\", \"turquoise\", \"cyan\"]\n",
    "print(sorted(colors, key=lambda s: s.lower()))"
   ]
  },
  {
   "cell_type": "code",
   "execution_count": null,
   "metadata": {},
   "outputs": [],
   "source": []
  }
 ],
 "metadata": {
  "colab": {
   "name": "topic06.ipynb",
   "provenance": []
  },
  "kernelspec": {
   "display_name": "Python 2",
   "language": "python",
   "name": "python2"
  },
  "language_info": {
   "codemirror_mode": {
    "name": "ipython",
    "version": 2
   },
   "file_extension": ".py",
   "mimetype": "text/x-python",
   "name": "python",
   "nbconvert_exporter": "python",
   "pygments_lexer": "ipython2",
   "version": "2.7.15+"
  }
 },
 "nbformat": 4,
 "nbformat_minor": 1
}
